{
 "cells": [
  {
   "cell_type": "markdown",
   "id": "76f77c8c-718b-4b77-9cd8-aa7cfa8532b9",
   "metadata": {},
   "source": [
    "# stryke\n",
    "\n",
    "Individual Based Monte Carlo model simulating fish entrainment through a hydroelectric facility. For information on setting up a project spreadsheet, please refer to the ReadMe [Readme](https://github.com/knebiolo/stryke/blob/master/README.md).  This project notebook will guide the end user through the analytical phases of an entrainment impact assessment.  If you're in JupyterLab, use the table of contents for navigation.\n",
    "\n",
    "# Connect to software\n",
    "The first step is to connect this notebook to stryke, which can be found in the directory you previously cloned from GitHub.  "
   ]
  },
  {
   "cell_type": "code",
   "execution_count": 3,
   "id": "808f014b-02da-459b-b0d6-b46b5195dc7d",
   "metadata": {},
   "outputs": [],
   "source": [
    "directory = r\"C:\\Users\\knebiolo\\OneDrive - Kleinschmidt Associates, Inc\\Software\\stryke\\Stryke\"\n",
    "\n",
    "import sys\n",
    "sys.path.append(directory)"
   ]
  },
  {
   "cell_type": "markdown",
   "id": "5ce8654b-02bb-4b80-9ad2-979138a8b274",
   "metadata": {},
   "source": [
    "now that we have connected to stryke, let's import it "
   ]
  },
  {
   "cell_type": "code",
   "execution_count": 5,
   "id": "2dfffc76-6849-41cc-b06a-7d0a6c73b3e1",
   "metadata": {},
   "outputs": [],
   "source": [
    "import stryke"
   ]
  },
  {
   "cell_type": "markdown",
   "id": "a3d54639-5aaa-461c-a35c-69d433175540",
   "metadata": {},
   "source": [
    "# Fit Entrainment Rates\n",
    "If you do not have existing empirical data for your facility of interest, stryke can query the EPRI entrainment database and develop them for you.  To fit a distribution, simply pass a list of arguments to stryke. The list of arguments, their datatype, and explanations are below.  The following example queries the EPRI database to return a sample of entrainment observations of Catastomidae in the winter within the great lakes watershed while leaving out Potato Rapids from the sample: \n",
    "\n",
    "'Family = 'Catostomidae', Month = [1,2,12], HUC02= [4], NIDID= 'WI00757''\n",
    "\n",
    "| Parameter       | Data Type |                                             Comment                                           |\n",
    "|-----------------|-----------|-----------------------------------------------------------------------------------------------|\n",
    "|states           |String     |(not required) State abbreviations to filter the dat                                           |\n",
    "|plant_cap        |String     |(not required) Plant capacity (cfs) with a direction for filtering (> or <=)                   |\n",
    "|Family, Genus, Species|String     |(at least one required) taxonomic classifications                                         |\n",
    "|HUC02, HUC04, HUC06, HUC08|String      |(not required) Hydrologic Unit Codes for geographic filtering, leading zeros required|\n",
    "|NIDID         |String      |(not required) National Inventory of Dams identifier - used to filter out a facility              |\n",
    "|River             |String     |(not required) River name for filtering                                                 |\n",
    "\n",
    "When the next cell is run, stryke will return a figure with four histograms that depict natural logarithm transformed entrainment rates (one observed, three simulated).  Stryke fits a Log Normal, Weibull, and Pareto distribution to the returned data and produces a p-value from a Kolmogorov-Smirnof test, where H0 = no difference between observed and simulated histogram.  The distribution with the largest p-value  best describes trends in observed data. The query above produced the figure below.  In this instance, the Log Normal had the highest p-value and is most like the observed data.  For most queries, the Log Normal will be the best distribution.  The Weibull works when there are fewer observations with low rates, and the Pareto only works in special cases when observations are monotonically decreasing after log transforming them. \n",
    "\n",
    "<img src=\"https://github.com/knebiolo/stryke/assets/61742537/1b57783c-0913-40d9-913a-4f45ee2ab8a0\" width=\"400\" height=\"auto\"/>\n",
    "\n"
   ]
  },
  {
   "cell_type": "code",
   "execution_count": 6,
   "id": "23306158-e5fa-43c4-9ce3-6788577d4fff",
   "metadata": {},
   "outputs": [
    {
     "name": "stdout",
     "output_type": "stream",
     "text": [
      "--------------------------------------------------------------------------------------------\n",
      "out of 112 potential samples 33 had this species present for 0.2946 probability of presence\n",
      "--------------------------------------------------------------------------------------------\n",
      "There are 33 records left to describe entrainment rates\n",
      "The maximum entrainment rate for this fish is: 2.356252858\n",
      "--------------------------------------------------------------------------------------------\n",
      "The Pareto distribution has a shape parameter of b: 0.3959,  location: 0 and scale: 0.0045\n",
      "The Pareto mean is: inf\n",
      "The Pareto variance is: inf\n",
      "The Pareto standard deviation is: inf\n",
      "--------------------------------------------------------------------------------------------\n",
      "The Log Normal distribution has a shape parameter of b: 1.6918,  location: 0 and scale: 0.0562\n",
      "The Log Normal mean is: 0.23490349935329435\n",
      "The Log Normal variance is: 0.910419573637075\n",
      "The Log Normal standard deviation is: 0.9541590924144019\n",
      "--------------------------------------------------------------------------------------------\n",
      "The Weibull Max distribution has a shape parameter of c: 0.5579,  location: 0 and scale: 0.1365\n",
      "The Weibull Max mean is: 0.2273604957117698\n",
      "The Weibull Max variance is: 0.19231094493741202\n",
      "The Weibull Max standard deviation is: 0.43853271820630674\n",
      "--------------------------------------------------------------------------------------------\n"
     ]
    },
    {
     "ename": "AttributeError",
     "evalue": "module 'numpy' has no attribute 'int'.\n`np.int` was a deprecated alias for the builtin `int`. To avoid this error in existing code, use `int` by itself. Doing this will not modify any behavior and is safe. When replacing `np.int`, you may wish to use e.g. `np.int64` or `np.int32` to specify the precision. If you wish to review your current use, check the release note link for additional information.\nThe aliases was originally deprecated in NumPy 1.20; for more details and guidance see the original release note at:\n    https://numpy.org/devdocs/release/1.20.0-notes.html#deprecations",
     "output_type": "error",
     "traceback": [
      "\u001b[1;31m---------------------------------------------------------------------------\u001b[0m",
      "\u001b[1;31mAttributeError\u001b[0m                            Traceback (most recent call last)",
      "Cell \u001b[1;32mIn[6], line 7\u001b[0m\n\u001b[0;32m      5\u001b[0m fish\u001b[38;5;241m.\u001b[39mWeibullMinFit()\n\u001b[0;32m      6\u001b[0m fish\u001b[38;5;241m.\u001b[39mplot()\n\u001b[1;32m----> 7\u001b[0m fish\u001b[38;5;241m.\u001b[39mLengthSummary()\n",
      "File \u001b[1;32m~\\OneDrive - Kleinschmidt Associates, Inc\\Software\\stryke\\Stryke\\stryke.py:2293\u001b[0m, in \u001b[0;36mepri.LengthSummary\u001b[1;34m(self)\u001b[0m\n\u001b[0;32m   2281\u001b[0m \u001b[38;5;250m\u001b[39m\u001b[38;5;124;03m\"\"\"\u001b[39;00m\n\u001b[0;32m   2282\u001b[0m \u001b[38;5;124;03mSummarizes fish lengths from the filtered EPRI dataset, aggregating counts\u001b[39;00m\n\u001b[0;32m   2283\u001b[0m \u001b[38;5;124;03macross specified length cohorts and fitting the aggregated lengths to a\u001b[39;00m\n\u001b[1;32m   (...)\u001b[0m\n\u001b[0;32m   2289\u001b[0m \u001b[38;5;124;03mentrained fish in the studied dataset.\u001b[39;00m\n\u001b[0;32m   2290\u001b[0m \u001b[38;5;124;03m\"\"\"\u001b[39;00m\n\u001b[0;32m   2292\u001b[0m \u001b[38;5;66;03m# sum up the number of observations within each size cohort\u001b[39;00m\n\u001b[1;32m-> 2293\u001b[0m cm_0_5 \u001b[38;5;241m=\u001b[39m np\u001b[38;5;241m.\u001b[39mint(\u001b[38;5;28mself\u001b[39m\u001b[38;5;241m.\u001b[39mepri[\u001b[38;5;124m'\u001b[39m\u001b[38;5;124m0_5\u001b[39m\u001b[38;5;124m'\u001b[39m]\u001b[38;5;241m.\u001b[39msum())\n\u001b[0;32m   2294\u001b[0m cm_5_10 \u001b[38;5;241m=\u001b[39m np\u001b[38;5;241m.\u001b[39mint(\u001b[38;5;28mself\u001b[39m\u001b[38;5;241m.\u001b[39mepri[\u001b[38;5;124m'\u001b[39m\u001b[38;5;124m5_10\u001b[39m\u001b[38;5;124m'\u001b[39m]\u001b[38;5;241m.\u001b[39msum())\n\u001b[0;32m   2295\u001b[0m cm_10_15 \u001b[38;5;241m=\u001b[39m np\u001b[38;5;241m.\u001b[39mint(\u001b[38;5;28mself\u001b[39m\u001b[38;5;241m.\u001b[39mepri[\u001b[38;5;124m'\u001b[39m\u001b[38;5;124m10_15\u001b[39m\u001b[38;5;124m'\u001b[39m]\u001b[38;5;241m.\u001b[39msum())\n",
      "File \u001b[1;32mC:\\ProgramData\\anaconda3\\Lib\\site-packages\\numpy\\__init__.py:324\u001b[0m, in \u001b[0;36m__getattr__\u001b[1;34m(attr)\u001b[0m\n\u001b[0;32m    319\u001b[0m     warnings\u001b[38;5;241m.\u001b[39mwarn(\n\u001b[0;32m    320\u001b[0m         \u001b[38;5;124mf\u001b[39m\u001b[38;5;124m\"\u001b[39m\u001b[38;5;124mIn the future `np.\u001b[39m\u001b[38;5;132;01m{\u001b[39;00mattr\u001b[38;5;132;01m}\u001b[39;00m\u001b[38;5;124m` will be defined as the \u001b[39m\u001b[38;5;124m\"\u001b[39m\n\u001b[0;32m    321\u001b[0m         \u001b[38;5;124m\"\u001b[39m\u001b[38;5;124mcorresponding NumPy scalar.\u001b[39m\u001b[38;5;124m\"\u001b[39m, \u001b[38;5;167;01mFutureWarning\u001b[39;00m, stacklevel\u001b[38;5;241m=\u001b[39m\u001b[38;5;241m2\u001b[39m)\n\u001b[0;32m    323\u001b[0m \u001b[38;5;28;01mif\u001b[39;00m attr \u001b[38;5;129;01min\u001b[39;00m __former_attrs__:\n\u001b[1;32m--> 324\u001b[0m     \u001b[38;5;28;01mraise\u001b[39;00m \u001b[38;5;167;01mAttributeError\u001b[39;00m(__former_attrs__[attr])\n\u001b[0;32m    326\u001b[0m \u001b[38;5;28;01mif\u001b[39;00m attr \u001b[38;5;241m==\u001b[39m \u001b[38;5;124m'\u001b[39m\u001b[38;5;124mtesting\u001b[39m\u001b[38;5;124m'\u001b[39m:\n\u001b[0;32m    327\u001b[0m     \u001b[38;5;28;01mimport\u001b[39;00m \u001b[38;5;21;01mnumpy\u001b[39;00m\u001b[38;5;21;01m.\u001b[39;00m\u001b[38;5;21;01mtesting\u001b[39;00m \u001b[38;5;28;01mas\u001b[39;00m \u001b[38;5;21;01mtesting\u001b[39;00m\n",
      "\u001b[1;31mAttributeError\u001b[0m: module 'numpy' has no attribute 'int'.\n`np.int` was a deprecated alias for the builtin `int`. To avoid this error in existing code, use `int` by itself. Doing this will not modify any behavior and is safe. When replacing `np.int`, you may wish to use e.g. `np.int64` or `np.int32` to specify the precision. If you wish to review your current use, check the release note link for additional information.\nThe aliases was originally deprecated in NumPy 1.20; for more details and guidance see the original release note at:\n    https://numpy.org/devdocs/release/1.20.0-notes.html#deprecations"
     ]
    }
   ],
   "source": [
    "#%% Pass EPRI filter, fit distributions\n",
    "fish = stryke.epri(Family = 'Catostomidae', Month = [1,2,12], HUC02= [4], NIDID= 'WI00757')\n",
    "fish.ParetoFit()\n",
    "fish.LogNormalFit()\n",
    "fish.WeibullMinFit()\n",
    "fish.plot()\n",
    "fish.LengthSummary()"
   ]
  }
 ],
 "metadata": {
  "kernelspec": {
   "display_name": "Python 3 (ipykernel)",
   "language": "python",
   "name": "python3"
  },
  "language_info": {
   "codemirror_mode": {
    "name": "ipython",
    "version": 3
   },
   "file_extension": ".py",
   "mimetype": "text/x-python",
   "name": "python",
   "nbconvert_exporter": "python",
   "pygments_lexer": "ipython3",
   "version": "3.11.7"
  }
 },
 "nbformat": 4,
 "nbformat_minor": 5
}
