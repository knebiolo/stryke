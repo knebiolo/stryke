{
 "cells": [
  {
   "cell_type": "markdown",
   "id": "76f77c8c-718b-4b77-9cd8-aa7cfa8532b9",
   "metadata": {},
   "source": [
    "# stryke\n",
    "\n",
    "Individual Based Monte Carlo model simulating fish entrainment through a hydroelectric facility. For information on setting up a project spreadsheet, please refer to the ReadMe [Readme](https://github.com/knebiolo/stryke/blob/master/README.md).  This project notebook will guide the end user through the analytical phases of an entrainment impact assessment.  If you're in JupyterLab, use the table of contents for navigation.\n",
    "\n",
    "# Connect to software\n",
    "The first step is to connect this notebook to stryke, which can be found in the directory you previously cloned from GitHub.  Don't know how to clone with GitHub desktop?  [Folks over at GitHub have you covered](https://docs.github.com/en/desktop/adding-and-cloning-repositories/cloning-and-forking-repositories-from-github-desktop) "
   ]
  },
  {
   "cell_type": "code",
   "execution_count": 1,
   "id": "808f014b-02da-459b-b0d6-b46b5195dc7d",
   "metadata": {},
   "outputs": [],
   "source": [
    "directory = r\"C:\\Users\\knebiolo\\OneDrive - Kleinschmidt Associates, Inc\\Software\\stryke\\Stryke\"\n",
    "\n",
    "import sys\n",
    "sys.path.append(directory)"
   ]
  },
  {
   "cell_type": "markdown",
   "id": "5ce8654b-02bb-4b80-9ad2-979138a8b274",
   "metadata": {},
   "source": [
    "now that we have connected to stryke, let's import it and set up the remaining notebook environment."
   ]
  },
  {
   "cell_type": "code",
   "execution_count": 2,
   "id": "2dfffc76-6849-41cc-b06a-7d0a6c73b3e1",
   "metadata": {},
   "outputs": [],
   "source": [
    "import stryke\n",
    "%matplotlib inline"
   ]
  },
  {
   "cell_type": "markdown",
   "id": "a3d54639-5aaa-461c-a35c-69d433175540",
   "metadata": {},
   "source": [
    "# Fit Entrainment Rates\n",
    "If you do not have existing empirical data for your facility of interest, stryke can query the EPRI entrainment database and develop them for you.  To fit a distribution, simply pass a list of arguments to stryke. The list of arguments, their datatype, and explanations are below.  The following example queries the EPRI database to return a sample of entrainment observations of Catastomidae in the winter within the great lakes watershed while leaving out Potato Rapids from the sample: \n",
    "\n",
    "'Family = 'Catostomidae', Month = [1,2,12], HUC02= [4], NIDID= 'WI00757''\n",
    "\n",
    "| Parameter       | Data Type |                                             Comment                                           |\n",
    "|-----------------|-----------|-----------------------------------------------------------------------------------------------|\n",
    "|states           |String     |(not required) State abbreviations to filter the dat                                           |\n",
    "|plant_cap        |String     |(not required) Plant capacity (cfs) with a direction for filtering (> or <=)                   |\n",
    "|Family, Genus, Species|String     |(at least one required) taxonomic classifications                                         |\n",
    "|HUC02, HUC04, HUC06, HUC08|String      |(not required) Hydrologic Unit Codes for geographic filtering, leading zeros required|\n",
    "|NIDID         |String      |(not required) National Inventory of Dams identifier - used to filter out a facility              |\n",
    "|River             |String     |(not required) River name for filtering                                                 |\n",
    "\n",
    "When the next cell is run, stryke will return a figure with four histograms that depict natural logarithm transformed entrainment rates (one observed, three simulated).  Stryke fits a Log Normal, Weibull, and Pareto distribution to the returned data and produces a p-value from a Kolmogorov-Smirnof test, where H0 = no difference between observed and simulated histogram.  The distribution with the largest p-value  best describes trends in observed data. The query above produced the figure below.  In this instance, the Log Normal had the highest p-value and is most like the observed data.  For most queries, the Log Normal will be the best distribution.  The Weibull works when there are fewer observations with low rates, and the Pareto only works in special cases when observations are monotonically decreasing after log transforming them. \n",
    "\n",
    "<img src=\"https://github.com/knebiolo/stryke/assets/61742537/1b57783c-0913-40d9-913a-4f45ee2ab8a0\" width=\"400\" height=\"auto\"/>\n",
    "\n"
   ]
  },
  {
   "cell_type": "code",
   "execution_count": 3,
   "id": "23306158-e5fa-43c4-9ce3-6788577d4fff",
   "metadata": {},
   "outputs": [
    {
     "name": "stdout",
     "output_type": "stream",
     "text": [
      "--------------------------------------------------------------------------------------------\n",
      "out of 112 potential samples 33 had this species present for 0.2946 probability of presence\n",
      "--------------------------------------------------------------------------------------------\n",
      "There are 33 records left to describe entrainment rates\n",
      "The maximum entrainment rate for this fish is: 2.356252858\n",
      "--------------------------------------------------------------------------------------------\n",
      "The Pareto distribution has a shape parameter of b: 0.3959,  location: 0 and scale: 0.0045\n",
      "--------------------------------------------------------------------------------------------\n",
      "The Log Normal distribution has a shape parameter of b: 1.6918,  location: 0 and scale: 0.0562\n",
      "--------------------------------------------------------------------------------------------\n",
      "The Weibull Max distribution has a shape parameter of c: 0.5579,  location: 0 and scale: 0.1365\n",
      "--------------------------------------------------------------------------------------------\n",
      "The log normal distribution has a shape parameter s: 0.1694, location: -25.5522 and scale: 39.7872\n"
     ]
    },
    {
     "data": {
      "image/png": "[encoded data removed]",
      "text/plain": [
       "<Figure size 400x400 with 4 Axes>"
      ]
     },
     "metadata": {},
     "output_type": "display_data"
    }
   ],
   "source": [
    "#%% Pass EPRI filter, fit distributions\n",
    "fish = stryke.epri(Family = 'Catostomidae', Month = [1,2,12], HUC02= [4], NIDID= 'WI00757')\n",
    "fish.ParetoFit()\n",
    "fish.LogNormalFit()\n",
    "fish.WeibullMinFit()\n",
    "fish.plot()\n",
    "fish.LengthSummary()"
   ]
  },
  {
   "cell_type": "markdown",
   "id": "863c27d8-6d2f-487d-8a86-3b34e6d58d28",
   "metadata": {},
   "source": [
    "If, and only if you are satisfied with the distribution's fit, run the next cell.  This will arrange the parameters so that you can copy and paste them directly onto the **Population tab**."
   ]
  },
  {
   "cell_type": "code",
   "execution_count": 4,
   "id": "6abb6a21-9ab6-458d-8a50-b56e07088015",
   "metadata": {},
   "outputs": [],
   "source": [
    "fish.summary_output(directory, dist = 'Log Normal')"
   ]
  },
  {
   "cell_type": "markdown",
   "id": "cb4711c6-6131-4183-814d-46230da45568",
   "metadata": {},
   "source": [
    "# Running a Simulation\n",
    "\n",
    "Following completion of the spreadsheet interface, we can now run a simulation.  First identify the name of the spreadsheet interface, its directory, and run the next cell to start stryke."
   ]
  },
  {
   "cell_type": "code",
   "execution_count": null,
   "id": "0e0eeeb8-eace-4766-9b5b-5c260e3b5c7e",
   "metadata": {},
   "outputs": [],
   "source": [
    "# Identify spreadsheet interface name\n",
    "wks = 'HUC02_Schaghticoke.xlsx'\n",
    "# Identify spreadsheet interface directory\n",
    "wks_dir = os.path.join(directory,wks)\n",
    "# Create and Run a simulation.\n",
    "simulation = stryke.simulation(ws,wks, output_name = 'HUC02_Schaghticoke')\n",
    "\n",
    "simulation.run()\n",
    "simulation.summary()\n",
    "\n",
    "results = simulation.beta_df\n",
    "day_sum = simulation.daily_summary\n",
    "year_sum = simulation.cum_sum\n",
    "length = simulation.length_summ\n",
    "\n",
    "# Summarize over iterations by Species and Flow Scenario\n",
    "with pd.ExcelWriter(wks_dir,engine = 'openpyxl', mode = 'a') as writer:\n",
    "    results.to_excel(writer,sheet_name = 'beta fit')\n",
    "    day_sum.to_excel(writer,sheet_name = 'daily summary')    \n",
    "    year_sum.to_excel(writer,sheet_name = 'yearly summary')\n",
    "    length.to_excel(writer,sheet_name = 'length data')"
   ]
  }
 ],
 "metadata": {
  "kernelspec": {
   "display_name": "Python 3 (ipykernel)",
   "language": "python",
   "name": "python3"
  },
  "language_info": {
   "codemirror_mode": {
    "name": "ipython",
    "version": 3
   },
   "file_extension": ".py",
   "mimetype": "text/x-python",
   "name": "python",
   "nbconvert_exporter": "python",
   "pygments_lexer": "ipython3",
   "version": "3.11.7"
  }
 },
 "nbformat": 4,
 "nbformat_minor": 5
}
